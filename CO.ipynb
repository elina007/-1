{
  "nbformat": 4,
  "nbformat_minor": 0,
  "metadata": {
    "colab": {
      "name": "Untitled8.ipynb",
      "provenance": [],
      "collapsed_sections": []
    },
    "kernelspec": {
      "name": "python3",
      "display_name": "Python 3"
    }
  },
  "cells": [
    {
      "cell_type": "code",
      "metadata": {
        "id": "eTgsDeusK1kN",
        "colab_type": "code",
        "colab": {}
      },
      "source": [
        ""
      ],
      "execution_count": 0,
      "outputs": []
    },
    {
      "cell_type": "markdown",
      "metadata": {
        "id": "ymf7vez8K3ii",
        "colab_type": "text"
      },
      "source": [
        "# Пример использования Markdown\n"
      ]
    },
    {
      "cell_type": "markdown",
      "metadata": {
        "id": "ypO0a8y2zLqj",
        "colab_type": "text"
      },
      "source": [
        "## Нужно сделать:\n",
        "1. Список.\n",
        "2. Таблица.\n",
        "3. Картинка.\n",
        "4. Ссылка."
      ]
    },
    {
      "cell_type": "markdown",
      "metadata": {
        "id": "Y_-cX0s7znvZ",
        "colab_type": "text"
      },
      "source": [
        "![NSTU](https://habrastorage.org/getpro/moikrug/uploads/company/218/645/913/logo/medium_a68ad9662fbc4b06311a7297c5321cdf.png)"
      ]
    },
    {
      "cell_type": "markdown",
      "metadata": {
        "id": "lXi1U0oszhn-",
        "colab_type": "text"
      },
      "source": [
        "|  134  |  25  |  12  |\n",
        "| ----  | ---- | ---- |\n",
        "|   1   |   2  |   3  |\n",
        "|   3   |   4  |   5  |\n"
      ]
    },
    {
      "cell_type": "markdown",
      "metadata": {
        "id": "MWsqC7A90_9j",
        "colab_type": "text"
      },
      "source": [
        "[Руководство по Markdown](https://daringfireball.net/projects/markdown/syntax)"
      ]
    }
  ]
}
